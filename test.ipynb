{
 "cells": [
  {
   "cell_type": "code",
   "execution_count": 88,
   "metadata": {},
   "outputs": [],
   "source": [
    "import pickle\n",
    "import pandas as pd\n",
    "import sklearn.svm\n",
    "import matplotlib.pyplot as plt\n",
    "import seaborn as sns"
   ]
  },
  {
   "cell_type": "code",
   "execution_count": 13,
   "metadata": {},
   "outputs": [],
   "source": [
    "df = pd.read_pickle(\"storing_results/trials_test.p\")"
   ]
  },
  {
   "cell_type": "code",
   "execution_count": 18,
   "metadata": {},
   "outputs": [
    {
     "ename": "UnicodeDecodeError",
     "evalue": "'utf-8' codec can't decode byte 0x80 in position 0: invalid start byte",
     "output_type": "error",
     "traceback": [
      "\u001b[0;31m---------------------------------------------------------------------------\u001b[0m",
      "\u001b[0;31mUnicodeDecodeError\u001b[0m                        Traceback (most recent call last)",
      "\u001b[0;32m/var/folders/2x/_czh2l1x4sd_pgz7n5rvj4p80000gn/T/ipykernel_8554/2415845093.py\u001b[0m in \u001b[0;36m<module>\u001b[0;34m\u001b[0m\n\u001b[0;32m----> 1\u001b[0;31m \u001b[0mtrials\u001b[0m \u001b[0;34m=\u001b[0m \u001b[0mpickle\u001b[0m\u001b[0;34m.\u001b[0m\u001b[0mload\u001b[0m\u001b[0;34m(\u001b[0m\u001b[0;34m(\u001b[0m\u001b[0mopen\u001b[0m\u001b[0;34m(\u001b[0m\u001b[0;34m\"storing_results/trials_test.p\"\u001b[0m\u001b[0;34m)\u001b[0m\u001b[0;34m)\u001b[0m\u001b[0;34m)\u001b[0m\u001b[0;34m\u001b[0m\u001b[0;34m\u001b[0m\u001b[0m\n\u001b[0m",
      "\u001b[0;32m~/.conda/envs/root_env/lib/python3.9/codecs.py\u001b[0m in \u001b[0;36mdecode\u001b[0;34m(self, input, final)\u001b[0m\n\u001b[1;32m    320\u001b[0m         \u001b[0;31m# decode input (taking the buffer into account)\u001b[0m\u001b[0;34m\u001b[0m\u001b[0;34m\u001b[0m\u001b[0m\n\u001b[1;32m    321\u001b[0m         \u001b[0mdata\u001b[0m \u001b[0;34m=\u001b[0m \u001b[0mself\u001b[0m\u001b[0;34m.\u001b[0m\u001b[0mbuffer\u001b[0m \u001b[0;34m+\u001b[0m \u001b[0minput\u001b[0m\u001b[0;34m\u001b[0m\u001b[0;34m\u001b[0m\u001b[0m\n\u001b[0;32m--> 322\u001b[0;31m         \u001b[0;34m(\u001b[0m\u001b[0mresult\u001b[0m\u001b[0;34m,\u001b[0m \u001b[0mconsumed\u001b[0m\u001b[0;34m)\u001b[0m \u001b[0;34m=\u001b[0m \u001b[0mself\u001b[0m\u001b[0;34m.\u001b[0m\u001b[0m_buffer_decode\u001b[0m\u001b[0;34m(\u001b[0m\u001b[0mdata\u001b[0m\u001b[0;34m,\u001b[0m \u001b[0mself\u001b[0m\u001b[0;34m.\u001b[0m\u001b[0merrors\u001b[0m\u001b[0;34m,\u001b[0m \u001b[0mfinal\u001b[0m\u001b[0;34m)\u001b[0m\u001b[0;34m\u001b[0m\u001b[0;34m\u001b[0m\u001b[0m\n\u001b[0m\u001b[1;32m    323\u001b[0m         \u001b[0;31m# keep undecoded input until the next call\u001b[0m\u001b[0;34m\u001b[0m\u001b[0;34m\u001b[0m\u001b[0m\n\u001b[1;32m    324\u001b[0m         \u001b[0mself\u001b[0m\u001b[0;34m.\u001b[0m\u001b[0mbuffer\u001b[0m \u001b[0;34m=\u001b[0m \u001b[0mdata\u001b[0m\u001b[0;34m[\u001b[0m\u001b[0mconsumed\u001b[0m\u001b[0;34m:\u001b[0m\u001b[0;34m]\u001b[0m\u001b[0;34m\u001b[0m\u001b[0;34m\u001b[0m\u001b[0m\n",
      "\u001b[0;31mUnicodeDecodeError\u001b[0m: 'utf-8' codec can't decode byte 0x80 in position 0: invalid start byte"
     ]
    }
   ],
   "source": [
    "trials = pickle.load((open(\"storing_results/trials_test.p\")))"
   ]
  },
  {
   "cell_type": "code",
   "execution_count": 19,
   "metadata": {},
   "outputs": [],
   "source": [
    "objects = []\n",
    "with (open(\"storing_results/trials_test.p\", \"rb\")) as openfile:\n",
    "    while True:\n",
    "        try:\n",
    "            objects.append(pickle.load(openfile))\n",
    "        except EOFError:\n",
    "            break\n",
    "trials = objects[0]"
   ]
  },
  {
   "cell_type": "code",
   "execution_count": 80,
   "metadata": {},
   "outputs": [],
   "source": [
    "trials = pickle.load(open(\"storing_results/trials_test.p\", \"rb\"))"
   ]
  },
  {
   "cell_type": "code",
   "execution_count": 143,
   "metadata": {},
   "outputs": [],
   "source": [
    "df = pd.DataFrame(trials)"
   ]
  },
  {
   "cell_type": "code",
   "execution_count": 144,
   "metadata": {},
   "outputs": [
    {
     "data": {
      "text/plain": [
       "Index(['state', 'tid', 'spec', 'result', 'misc', 'exp_key', 'owner', 'version',\n",
       "       'book_time', 'refresh_time'],\n",
       "      dtype='object')"
      ]
     },
     "execution_count": 144,
     "metadata": {},
     "output_type": "execute_result"
    }
   ],
   "source": [
    "df.columns"
   ]
  },
  {
   "cell_type": "code",
   "execution_count": 176,
   "metadata": {},
   "outputs": [
    {
     "data": {
      "image/png": "[encoded data removed]",
      "text/plain": [
       "<Figure size 648x432 with 1 Axes>"
      ]
     },
     "metadata": {
      "needs_background": "light"
     },
     "output_type": "display_data"
    }
   ],
   "source": [
    "trials = pickle.load(open(\"storing_results/trials_test.p\", \"rb\"))\n",
    "df = pd.json_normalize(trials.results)\n",
    "\n",
    "fig, ax = plt.subplots(figsize=(9, 6))\n",
    "sns.violinplot(x=\"hyper_parameters.learning_rate\", y=\"loss\", data=df)\n",
    "\n",
    "minimum = df[[\"loss\", \"hyper_parameters.learning_rate\"]].groupby('hyper_parameters.learning_rate').min().reset_index()\n",
    "sns.swarmplot(x = 'hyper_parameters.learning_rate', y='loss', data=minimum,  color='r')\n",
    "\n",
    "_ = plt.xticks(rotation=45, ha='right')\n",
    "\n",
    "sns.despine(left=True)"
   ]
  },
  {
   "cell_type": "code",
   "execution_count": 178,
   "metadata": {},
   "outputs": [
    {
     "name": "stdout",
     "output_type": "stream",
     "text": [
      "Index(['loss', 'status', 'model.lstm:', 'model.ocsvm', 'model.scaler',\n",
      "       'hyper_parameters.batch_size', 'hyper_parameters.decay_factor',\n",
      "       'hyper_parameters.dropout', 'hyper_parameters.hidden_dim',\n",
      "       'hyper_parameters.learning_rate', 'hyper_parameters.min_epochs',\n",
      "       'hyper_parameters.num_layers', 'hyper_parameters.output_dim',\n",
      "       'hyper_parameters.svm_gamma', 'hyper_parameters.svm_nu'],\n",
      "      dtype='object')\n"
     ]
    }
   ],
   "source": [
    "s = \"batch_size\"\n",
    "print(df.keys())"
   ]
  },
  {
   "cell_type": "code",
   "execution_count": 179,
   "metadata": {},
   "outputs": [],
   "source": [
    "key = df.keys()[[s in key for key in df.keys()]][0]"
   ]
  },
  {
   "cell_type": "code",
   "execution_count": 195,
   "metadata": {},
   "outputs": [
    {
     "name": "stdout",
     "output_type": "stream",
     "text": [
      "batch_size\n",
      "decay_factor\n",
      "dropout\n",
      "hidden_dim\n",
      "learning_rate\n",
      "min_epochs\n",
      "num_layers\n",
      "output_dim\n",
      "svm_gamma\n",
      "svm_nu\n"
     ]
    }
   ],
   "source": [
    "for key in trials.results[0]['hyper_parameters'].keys():\n",
    "    print(key)"
   ]
  },
  {
   "cell_type": "code",
   "execution_count": 182,
   "metadata": {},
   "outputs": [],
   "source": [
    "from hyperopt import hp\n",
    "space = hp.choice(\n",
    "    \"hyper_parameters\",\n",
    "    [\n",
    "        {\n",
    "            \"batch_size\": hp.choice(\"num_batch\", [50, 100, 200]),\n",
    "            \"hidden_dim\": hp.choice(\"hidden_dim\", [2, 6, 18]),\n",
    "            \"num_layers\": hp.choice(\"num_layers\", [1]),\n",
    "            \"min_epochs\": hp.choice(\"min_epochs\", [int(5), int(10), int(20)]),\n",
    "            \"learning_rate\": hp.choice(\n",
    "                \"learning_rate\", [1e-3, 1e-5, 1e-7, 1e-5, 1e-10, 1e-15]\n",
    "            ),\n",
    "            \"decay_factor\": hp.choice(\"decay_factor\", [0.5, 0.7, 0.8]),\n",
    "            \"dropout\": hp.choice(\"dropout\", [0]),  # , 0.2, 0.4, 0.6]),\n",
    "            \"output_dim\": hp.choice(\"output_dim\", [1]),\n",
    "            \"svm_nu\": hp.choice(\"svm_nu\", [0.05]),  # 0.5 was the default\n",
    "            \"svm_gamma\": hp.choice(\n",
    "                \"svm_gamma\", [\"scale\", \"auto\"]  # Auto seems to give weird results\n",
    "            ),  # , \"scale\", , \"auto\"[ 0.23 was the defeault before]\n",
    "        }\n",
    "    ],\n",
    ")"
   ]
  },
  {
   "cell_type": "code",
   "execution_count": 155,
   "metadata": {},
   "outputs": [
    {
     "data": {
      "text/plain": [
       "<hyperopt.pyll.base.Apply at 0x1457e5ee0>"
      ]
     },
     "execution_count": 155,
     "metadata": {},
     "output_type": "execute_result"
    }
   ],
   "source": []
  },
  {
   "cell_type": "code",
   "execution_count": null,
   "metadata": {},
   "outputs": [],
   "source": []
  }
 ],
 "metadata": {
  "interpreter": {
   "hash": "d2bd7d0fbb008dd93977e0e64b90f705374280d7eef866d2aaf0c3f432ec1bf7"
  },
  "kernelspec": {
   "display_name": "Python 3.9.7 64-bit ('root_env': conda)",
   "language": "python",
   "name": "python3"
  },
  "language_info": {
   "codemirror_mode": {
    "name": "ipython",
    "version": 3
   },
   "file_extension": ".py",
   "mimetype": "text/x-python",
   "name": "python",
   "nbconvert_exporter": "python",
   "pygments_lexer": "ipython3",
   "version": "3.9.7"
  },
  "orig_nbformat": 4
 },
 "nbformat": 4,
 "nbformat_minor": 2
}
